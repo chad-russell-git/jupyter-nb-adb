{
 "cells": [
  {
   "cell_type": "markdown",
   "id": "b3ad18f7",
   "metadata": {},
   "source": [
    "# Connecting a Jupyter Notebook to an Autonomous Database Security Using OCI Vault Secrets\n",
    "##### _Author: Chad Russell, September 2021_"
   ]
  },
  {
   "cell_type": "markdown",
   "id": "15f7b1f8",
   "metadata": {},
   "source": [
    "### Prerequisites \n",
    " - Create Dynamic Group in the respective OCI Tenancy\n",
    " - Create a matching rule that matches a resource such as compartment_id to the group\n",
    " - Write an OCI policy assigning the Dynamic Group the needed privileges for the activity"
   ]
  },
  {
   "cell_type": "code",
   "execution_count": null,
   "id": "04f19a58",
   "metadata": {},
   "outputs": [],
   "source": [
    "import oci"
   ]
  },
  {
   "cell_type": "code",
   "execution_count": null,
   "id": "1874c5e8",
   "metadata": {},
   "outputs": [],
   "source": [
    "# By default this will hit the auth service in the region returned by http://169.254.169.254/opc/v1/instance/region on the instance.\n",
    "\t\t\t\n",
    "signer = oci.auth.signers.InstancePrincipalsSecurityTokenSigner()\n",
    "identity_client = oci.identity.IdentityClient(config={}, signer=signer)\n"
   ]
  },
  {
   "cell_type": "code",
   "execution_count": null,
   "id": "d5af5657",
   "metadata": {},
   "outputs": [],
   "source": [
    "print(signer)"
   ]
  },
  {
   "cell_type": "code",
   "execution_count": null,
   "id": "6220cb81",
   "metadata": {},
   "outputs": [],
   "source": [
    "print(identity_client)"
   ]
  },
  {
   "cell_type": "raw",
   "id": "c2ad8452",
   "metadata": {},
   "source": [
    " "
   ]
  },
  {
   "cell_type": "markdown",
   "id": "386d4907",
   "metadata": {},
   "source": [
    " ### Defining Target Compartment, Initializing Resource Principal Authentication, Returning Token and Retrieving List of Autonomous Databases"
   ]
  },
  {
   "cell_type": "code",
   "execution_count": null,
   "id": "ae9e862b",
   "metadata": {},
   "outputs": [],
   "source": [
    "# coding: utf-8\n",
    "# Copyright (c) 2016, 2021, Oracle and/or its affiliates.  All rights reserved.\n",
    "# This software is dual-licensed to you under the Universal Permissive License (UPL) 1.0 as shown at https://oss.oracle.com/licenses/upl or Apache License 2.0 as shown at http://www.apache.org/licenses/LICENSE-2.0. You may choose either license.\n",
    "\n",
    "import oci\n",
    "import sys\n",
    "\n",
    "\"\"\"\n",
    "Example showing how to initialize and use the Resource Principals signer.\n",
    "\n",
    "This example shows the resource principals signer being used with the\n",
    "DBaaS service.  The instance must be set up for resource principals for\n",
    "this example to work.\n",
    "\n",
    "The compartment ID must be provided when running the example.\n",
    "\n",
    "python resource_principals_example <compartment_id>\n",
    "\"\"\"\n",
    "\n",
    "\n",
    "\n",
    "compartment_id = 'ocid.*******'\n",
    "\n",
    "# Create a Response Pricipals signer\n",
    "print(\"=\" * 80)\n",
    "print(\"Intializing new signer\")\n",
    "rps = oci.auth.signers.get_resource_principals_signer()\n",
    "\n",
    "# Print the Resource Principal Security Token\n",
    "# This step is not required to use the signer, it just shows that the security\n",
    "# token can be retrieved from the signer.\n",
    "print(\"=\" * 80)\n",
    "print(\"Resource Principal Security Token\")\n",
    "print(rps.get_security_token())\n",
    "\n",
    "print(\"=\" * 80)\n",
    "print(\"Calling list_autonomous_databases\")\n",
    "# Note that the config is passed in as an empty dictionary.  A populated config\n",
    "# is not needed when using a Resource Principals signer\n",
    "db_client = oci.database.DatabaseClient({}, signer=rps)\n",
    "response = db_client.list_autonomous_databases(compartment_id, limit=5)\n",
    "print(response.data)"
   ]
  },
  {
   "cell_type": "markdown",
   "id": "c44a596f",
   "metadata": {},
   "source": [
    "### Initializing Vault Client and Listing Secrets from Compartment"
   ]
  },
  {
   "cell_type": "code",
   "execution_count": null,
   "id": "70603f9e",
   "metadata": {},
   "outputs": [],
   "source": [
    "vaults_client = oci.vault.VaultsClient({}, signer=rps)\n",
    "vaults_client_composite = oci.vault.VaultsClientCompositeOperations(vaults_client)\n",
    "\n",
    "response = vaults_client.list_secrets(compartment_id)\n",
    "print(response.data)"
   ]
  },
  {
   "cell_type": "markdown",
   "id": "de5e3400",
   "metadata": {},
   "source": [
    "### Create Instance of Vault Client Composite"
   ]
  },
  {
   "cell_type": "code",
   "execution_count": null,
   "id": "99c604d2",
   "metadata": {},
   "outputs": [],
   "source": [
    "vaults_client_composite = oci.vault.VaultsClientCompositeOperations(vaults_client)"
   ]
  },
  {
   "cell_type": "code",
   "execution_count": null,
   "id": "8eda2cdd",
   "metadata": {},
   "outputs": [],
   "source": [
    "print(vaults_client_composite)"
   ]
  },
  {
   "cell_type": "markdown",
   "id": "f0b73fb5",
   "metadata": {},
   "source": [
    "### Read Secret Content"
   ]
  },
  {
   "cell_type": "markdown",
   "id": "0ef16f62",
   "metadata": {},
   "source": [
    "##### For this example, manually copy the OCID of a secret id from the output of the 'Initializing Vault Client and Listing Secrets from Compartment' results cell that you would like to use."
   ]
  },
  {
   "cell_type": "code",
   "execution_count": null,
   "id": "5a804dcc",
   "metadata": {},
   "outputs": [],
   "source": [
    "import base64"
   ]
  },
  {
   "cell_type": "code",
   "execution_count": null,
   "id": "c4df0e91",
   "metadata": {},
   "outputs": [],
   "source": [
    "# Usage : python secret_examples.py secret_id\n",
    "def read_secret_value(secret_client, secret_id):\n",
    "    print(\"Reading vaule of secret_id {}.\".format(secret_id))\n",
    "     \n",
    "    response = secret_client.get_secret_bundle(secret_id)\n",
    "     \n",
    "    base64_Secret_content = response.data.secret_bundle_content.content\n",
    "    base64_secret_bytes = base64_Secret_content.encode('ascii')\n",
    "    base64_message_bytes = base64.b64decode(base64_secret_bytes)\n",
    "    secret_content = base64_message_bytes.decode('ascii')\n",
    "     \n",
    "    return secret_content\n",
    "     \n",
    "#Paste the OCID of the secret from the 'Initializing Vault Client and Listing Secrets from Compartment' results cell that you would like to use\n",
    " \n",
    "secret_id = 'ocid1.****'\n",
    " \n",
    "secret_client = oci.secrets.SecretsClient({}, signer=rps)\n",
    "secret_content = read_secret_value(secret_client, secret_id)\n",
    "print(\"Decoded content of the secret is: {}.\".format(secret_content))"
   ]
  },
  {
   "cell_type": "markdown",
   "id": "962deae7",
   "metadata": {},
   "source": [
    "###  Now go into OCI Console and change value of secret and re-run the commands above to see different secret value"
   ]
  },
  {
   "cell_type": "code",
   "execution_count": null,
   "id": "5f62f1d7",
   "metadata": {},
   "outputs": [],
   "source": [
    "# Usage : python secret_examples.py secret_id\n",
    "def read_secret_value(secret_client, secret_id):\n",
    "    print(\"Reading vaule of secret_id {}.\".format(secret_id))\n",
    "     \n",
    "    response = secret_client.get_secret_bundle(secret_id)\n",
    "     \n",
    "    base64_Secret_content = response.data.secret_bundle_content.content\n",
    "    base64_secret_bytes = base64_Secret_content.encode('ascii')\n",
    "    base64_message_bytes = base64.b64decode(base64_secret_bytes)\n",
    "    secret_content = base64_message_bytes.decode('ascii')\n",
    "     \n",
    "    return secret_content\n",
    "     \n",
    "#Paste the OCID of the secret from the 'Initializing Vault Client and Listing Secrets from Compartment' results cell that you would like to use\n",
    " \n",
    "secret_id = 'ocid1.***'\n",
    " \n",
    "secret_client = oci.secrets.SecretsClient({}, signer=rps)\n",
    "secret_content = read_secret_value(secret_client, secret_id)\n",
    "print(\"Decoded content of the secret is: {}.\".format(secret_content))"
   ]
  },
  {
   "cell_type": "markdown",
   "id": "626087fa",
   "metadata": {},
   "source": [
    "### Now let's work on storing the wallet as secret information"
   ]
  },
  {
   "cell_type": "raw",
   "id": "053ad693",
   "metadata": {},
   "source": [
    "#### The following is a shell script you can run to iterate over your wallet folder to base64 encode the contents in prepation for storing them as secrets\n",
    "    - Replace path in line 1 with path to location of your wallet files\n",
    "    - Create a base64-wallet folder in the path of your wallet files\n",
    "    - Replace path in line 5 with path to location of your wallet files/base64-wallet"
   ]
  },
  {
   "cell_type": "raw",
   "id": "4f1b4d01",
   "metadata": {},
   "source": [
    "for f in /home/datascience/instantclient_21_3/network/admin/*\n",
    "do\n",
    "   fname=$(basename $f)\n",
    "   echo $fname\n",
    "   x=$(base64 $f > /home/datascience/instantclient_21_3/network/admin/base64-wallet/$fname)\n",
    "   #echo $f: $x\n",
    "done\n",
    "\n"
   ]
  },
  {
   "cell_type": "markdown",
   "id": "4a5b5214",
   "metadata": {},
   "source": [
    "#### Next create each file as a secret in OCI Vault\n",
    "    - Use the following command to copy the base64 info to your clipboard from a terminal window (if you are using a Mac).  \n",
    "      Otherwise if you are copying make sure you do not include line or space characters. "
   ]
  },
  {
   "cell_type": "raw",
   "id": "5d5ca6be",
   "metadata": {},
   "source": [
    "$ more cwallet.sso | pbcopy"
   ]
  },
  {
   "cell_type": "code",
   "execution_count": null,
   "id": "5ca441e5",
   "metadata": {},
   "outputs": [],
   "source": [
    "pwd"
   ]
  },
  {
   "cell_type": "code",
   "execution_count": null,
   "id": "fefc83cf",
   "metadata": {},
   "outputs": [],
   "source": [
    "cd /home/datascience/instantclient_21_3/network/admin/base64-wallet\n"
   ]
  },
  {
   "cell_type": "code",
   "execution_count": null,
   "id": "d73dc75e",
   "metadata": {},
   "outputs": [],
   "source": [
    "cat cwallet.sso"
   ]
  },
  {
   "cell_type": "code",
   "execution_count": null,
   "id": "4ec210b7",
   "metadata": {},
   "outputs": [],
   "source": [
    "ls"
   ]
  },
  {
   "cell_type": "raw",
   "id": "89cfc3c7",
   "metadata": {},
   "source": []
  },
  {
   "cell_type": "markdown",
   "id": "e6e57432",
   "metadata": {},
   "source": [
    "#### Rough Test of Oracle Database Connection\n",
    "    - It's a good idea to test db connectivity via a sqlplus terminal to ensure proper network connectivity first"
   ]
  },
  {
   "cell_type": "code",
   "execution_count": null,
   "id": "8f2a11c0",
   "metadata": {},
   "outputs": [],
   "source": [
    "import os\n",
    "import cx_Oracle"
   ]
  },
  {
   "cell_type": "code",
   "execution_count": null,
   "id": "bbefdc8b",
   "metadata": {},
   "outputs": [],
   "source": [
    "\n"
   ]
  },
  {
   "cell_type": "code",
   "execution_count": null,
   "id": "876a3adf",
   "metadata": {},
   "outputs": [],
   "source": [
    "os.environ['TNS_ADMIN'] = \"/home/datascience/instantclient_21_3/network/admin\""
   ]
  },
  {
   "cell_type": "code",
   "execution_count": null,
   "id": "6ee1306d",
   "metadata": {},
   "outputs": [],
   "source": [
    "\n",
    "pword = '***********'\n",
    "p_username = 'admin'\n",
    "p_password = '*************'\n",
    "p_service = 'db202108311946_high'\n",
    "con = cx_Oracle.connect(p_username, p_password, p_service)\n",
    "\n",
    "print(con)\n",
    "print(con.version)\n"
   ]
  },
  {
   "cell_type": "code",
   "execution_count": null,
   "id": "cf38b7d6",
   "metadata": {},
   "outputs": [],
   "source": [
    "cur = con.cursor()\n",
    "cur.execute(\"SELECT table_name FROM dba_tables\")\n",
    "res = cur.fetchall()\n",
    "for row in res:\n",
    "    print(row)"
   ]
  },
  {
   "cell_type": "code",
   "execution_count": null,
   "id": "c4f759b4",
   "metadata": {},
   "outputs": [],
   "source": []
  },
  {
   "cell_type": "markdown",
   "id": "03424464",
   "metadata": {},
   "source": [
    "### Time to extract the wallet secrets content and password to build the wallet contents\n",
    " "
   ]
  },
  {
   "cell_type": "markdown",
   "id": "6f2b6fcd",
   "metadata": {},
   "source": [
    "#### Step 1 - List the secrets and grab the relevant ones (map to wallet files and db password)"
   ]
  },
  {
   "cell_type": "code",
   "execution_count": null,
   "id": "d65e7437",
   "metadata": {},
   "outputs": [],
   "source": [
    "vaults_client = oci.vault.VaultsClient({}, signer=rps)\n",
    "vaults_client_composite = oci.vault.VaultsClientCompositeOperations(vaults_client)\n",
    "\n",
    "response = vaults_client.list_secrets(compartment_id)\n",
    "print(response.data)"
   ]
  },
  {
   "cell_type": "code",
   "execution_count": null,
   "id": "8eb16c5d",
   "metadata": {},
   "outputs": [],
   "source": []
  },
  {
   "cell_type": "code",
   "execution_count": null,
   "id": "529a16fb",
   "metadata": {},
   "outputs": [],
   "source": [
    "cwallet = 'ocid1.***'"
   ]
  },
  {
   "cell_type": "code",
   "execution_count": null,
   "id": "f0450b08",
   "metadata": {},
   "outputs": [],
   "source": [
    "# Usage : python secret_examples.py secret_id\n",
    "# cwallet.sso extraction\n",
    "def read_secret_value(secret_client, secret_id):\n",
    "    print(\"Reading vaule of secret_id {}.\".format(secret_id))\n",
    "     \n",
    "    response = secret_client.get_secret_bundle(secret_id)\n",
    "     \n",
    "    base64_Secret_content = response.data.secret_bundle_content.content\n",
    "    base64_message_bytes = base64.b64decode(base64_Secret_content)\n",
    "    \n",
    "     \n",
    "    return base64_message_bytes\n",
    "     \n",
    "#Paste the OCID of the secret from the respective secret results cell that you would like to use\n",
    "\n",
    "#This is extracting the cwallet secret contents, base64 decoding and and writing bytes to file names cwallet.sso in file system\n",
    "secret_id = 'ocid1.***'\n",
    " \n",
    "secret_client = oci.secrets.SecretsClient({}, signer=rps)\n",
    "secret_content = read_secret_value(secret_client, secret_id)\n",
    "print(\"Decoded content of the secret is: {}.\".format(secret_content))\n",
    "\n",
    "f = open(\"/home/datascience/instantclient_21_3/network/admin/decodedwallet/cwallet.sso\", \"wb\")\n",
    "f.write(secret_content)\n",
    "f.close()"
   ]
  },
  {
   "cell_type": "code",
   "execution_count": null,
   "id": "d3305ea4",
   "metadata": {},
   "outputs": [],
   "source": [
    "truststore = 'ocid1.***'"
   ]
  },
  {
   "cell_type": "code",
   "execution_count": null,
   "id": "dc662c21",
   "metadata": {},
   "outputs": [],
   "source": [
    "# Read truststore secret from OCI vault.   Base64 decode back into binary and write to file in wallet folder. \n",
    "def read_secret_value(secret_client, secret_id):\n",
    "    print(\"Reading vaule of secret_id {}.\".format(secret_id))\n",
    "     \n",
    "    response = secret_client.get_secret_bundle(secret_id)\n",
    "     \n",
    "    base64_Secret_content = response.data.secret_bundle_content.content\n",
    "    base64_message_bytes = base64.b64decode(base64_Secret_content)\n",
    "    \n",
    "     \n",
    "    return base64_message_bytes\n",
    "     \n",
    "#Paste the OCID of the secret from the respective secret results cell that you would like to use\n",
    "\n",
    "#This is extracting the cwallet secret contents, base64 decoding and and writing bytes to file names cwallet.sso in file system\n",
    "secret_id = 'ocid1.***'\n",
    " \n",
    "secret_client = oci.secrets.SecretsClient({}, signer=rps)\n",
    "secret_content = read_secret_value(secret_client, secret_id)\n",
    "print(\"Decoded content of the secret is: {}.\".format(secret_content))\n",
    "\n",
    "f = open(\"/home/datascience/instantclient_21_3/network/admin/decodedwallet/truststore.jks\", \"wb\")\n",
    "f.write(secret_content)\n",
    "f.close()\n"
   ]
  },
  {
   "cell_type": "code",
   "execution_count": null,
   "id": "76075f4a",
   "metadata": {},
   "outputs": [],
   "source": [
    "tnsnames = 'ocid1.***'"
   ]
  },
  {
   "cell_type": "code",
   "execution_count": null,
   "id": "5ae3ebbc",
   "metadata": {},
   "outputs": [],
   "source": [
    "# tnsnames extraction from OCI vault secret and write to file system\n",
    "def read_secret_value(secret_client, secret_id):\n",
    "    print(\"Reading vaule of secret_id {}.\".format(secret_id))\n",
    "     \n",
    "    response = secret_client.get_secret_bundle(secret_id)\n",
    "     \n",
    "    base64_Secret_content = response.data.secret_bundle_content.content\n",
    "    base64_secret_bytes = base64_Secret_content.encode('ascii')\n",
    "    base64_message_bytes = base64.b64decode(base64_secret_bytes)\n",
    "    secret_content = base64_message_bytes.decode('ascii')\n",
    "     \n",
    "    return secret_content\n",
    "     \n",
    "#Paste the OCID of the secret from the 'Initializing Vault Client and Listing Secrets from Compartment' results cell that you would like to use\n",
    " \n",
    "secret_id = 'ocid.***'\n",
    " \n",
    "secret_client = oci.secrets.SecretsClient({}, signer=rps)\n",
    "secret_content = read_secret_value(secret_client, secret_id)\n",
    "print(\"Decoded content of the secret is: {}.\".format(secret_content))\n",
    "\n",
    "\n",
    "f = open(\"/home/datascience/instantclient_21_3/network/admin/decodedwallet/tnsnames.ora\", \"w\")\n",
    "f.write(secret_content)\n",
    "f.close()"
   ]
  },
  {
   "cell_type": "code",
   "execution_count": null,
   "id": "307bee1c",
   "metadata": {},
   "outputs": [],
   "source": [
    "sqlnet = 'ocid1.***'"
   ]
  },
  {
   "cell_type": "code",
   "execution_count": null,
   "id": "6f90b270",
   "metadata": {},
   "outputs": [],
   "source": [
    "# sqlnet.ora extraction from OCI vault secret and write to file system\n",
    "def read_secret_value(secret_client, secret_id):\n",
    "    print(\"Reading vaule of secret_id {}.\".format(secret_id))\n",
    "     \n",
    "    response = secret_client.get_secret_bundle(secret_id)\n",
    "     \n",
    "    base64_Secret_content = response.data.secret_bundle_content.content\n",
    "    base64_secret_bytes = base64_Secret_content.encode('ascii')\n",
    "    base64_message_bytes = base64.b64decode(base64_secret_bytes)\n",
    "    secret_content = base64_message_bytes.decode('ascii')\n",
    "     \n",
    "    return secret_content\n",
    "     \n",
    "#Paste the OCID of the secret from the 'Initializing Vault Client and Listing Secrets from Compartment' results cell that you would like to use\n",
    " \n",
    "secret_id = 'ocid1.***'\n",
    " \n",
    "secret_client = oci.secrets.SecretsClient({}, signer=rps)\n",
    "secret_content = read_secret_value(secret_client, secret_id)\n",
    "print(\"Decoded content of the secret is: {}.\".format(secret_content))\n",
    "\n",
    "\n",
    "f = open(\"/home/datascience/instantclient_21_3/network/admin/decodedwallet/sqlnet.ora\", \"w\")\n",
    "f.write(secret_content)\n",
    "f.close()"
   ]
  },
  {
   "cell_type": "code",
   "execution_count": null,
   "id": "8a13f6ea",
   "metadata": {},
   "outputs": [],
   "source": [
    "ojdbc = 'ocid1.***'"
   ]
  },
  {
   "cell_type": "code",
   "execution_count": null,
   "id": "03a0696d",
   "metadata": {},
   "outputs": [],
   "source": [
    "# ojdbc.properties file retrieval, base64 decoding and writing to wallet folder\n",
    "def read_secret_value(secret_client, secret_id):\n",
    "    print(\"Reading vaule of secret_id {}.\".format(secret_id))\n",
    "     \n",
    "    response = secret_client.get_secret_bundle(secret_id)\n",
    "     \n",
    "    base64_Secret_content = response.data.secret_bundle_content.content\n",
    "    base64_secret_bytes = base64_Secret_content.encode('ascii')\n",
    "    base64_message_bytes = base64.b64decode(base64_secret_bytes)\n",
    "    secret_content = base64_message_bytes.decode('ascii')\n",
    "     \n",
    "    return secret_content\n",
    "     \n",
    "#Paste the OCID of the secret from the 'Initializing Vault Client and Listing Secrets from Compartment' results cell that you would like to use\n",
    " \n",
    "secret_id = 'ocid1.***'\n",
    " \n",
    "secret_client = oci.secrets.SecretsClient({}, signer=rps)\n",
    "secret_content = read_secret_value(secret_client, secret_id)\n",
    "print(\"Decoded content of the secret is: {}.\".format(secret_content))\n",
    "\n",
    "\n",
    "f = open(\"/home/datascience/instantclient_21_3/network/admin/decodedwallet/ojdbc.properties\", \"w\")\n",
    "f.write(secret_content)\n",
    "f.close()"
   ]
  },
  {
   "cell_type": "code",
   "execution_count": null,
   "id": "9e351070",
   "metadata": {},
   "outputs": [],
   "source": [
    "keystore = 'ocid1.***'"
   ]
  },
  {
   "cell_type": "code",
   "execution_count": null,
   "id": "7aa7b8da",
   "metadata": {},
   "outputs": [],
   "source": [
    "# Read keystore secret from OCI vault.   Base64 decode back into binary and write to file in wallet folder. \n",
    "def read_secret_value(secret_client, secret_id):\n",
    "    print(\"Reading vaule of secret_id {}.\".format(secret_id))\n",
    "     \n",
    "    response = secret_client.get_secret_bundle(secret_id)\n",
    "     \n",
    "    base64_Secret_content = response.data.secret_bundle_content.content\n",
    "    base64_message_bytes = base64.b64decode(base64_Secret_content)\n",
    "    \n",
    "     \n",
    "    return base64_message_bytes\n",
    "     \n",
    "#Paste the OCID of the secret from the respective secret results cell that you would like to use\n",
    "\n",
    "#This is extracting the cwallet secret contents, base64 decoding and and writing bytes to file names keystore.jks in file system\n",
    "secret_id = 'ocid1.***'\n",
    " \n",
    "secret_client = oci.secrets.SecretsClient({}, signer=rps)\n",
    "secret_content = read_secret_value(secret_client, secret_id)\n",
    "print(\"Decoded content of the secret is: {}.\".format(secret_content))\n",
    "\n",
    "f = open(\"/home/datascience/instantclient_21_3/network/admin/decodedwallet/keystore.jks\", \"wb\")\n",
    "f.write(secret_content)\n",
    "f.close()"
   ]
  },
  {
   "cell_type": "code",
   "execution_count": null,
   "id": "c029f375",
   "metadata": {},
   "outputs": [],
   "source": [
    "ewallet = 'ocid1.***'"
   ]
  },
  {
   "cell_type": "code",
   "execution_count": null,
   "id": "82024bd9",
   "metadata": {},
   "outputs": [],
   "source": [
    "# Read ewallet secret from OCI vault.   Base64 decode back into binary and write to file in wallet folder. \n",
    "def read_secret_value(secret_client, secret_id):\n",
    "    print(\"Reading vaule of secret_id {}.\".format(secret_id))\n",
    "     \n",
    "    response = secret_client.get_secret_bundle(secret_id)\n",
    "     \n",
    "    base64_Secret_content = response.data.secret_bundle_content.content\n",
    "    base64_message_bytes = base64.b64decode(base64_Secret_content)\n",
    "    \n",
    "     \n",
    "    return base64_message_bytes\n",
    "     \n",
    "#Paste the OCID of the secret from the respective secret results cell that you would like to use\n",
    "\n",
    "#This is extracting the cwallet secret contents, base64 decoding and and writing bytes to file names ewallet.p12 in file system\n",
    "secret_id = 'ocid1.***'\n",
    " \n",
    "secret_client = oci.secrets.SecretsClient({}, signer=rps)\n",
    "secret_content = read_secret_value(secret_client, secret_id)\n",
    "print(\"Decoded content of the secret is: {}.\".format(secret_content))\n",
    "\n",
    "f = open(\"/home/datascience/instantclient_21_3/network/admin/decodedwallet/ewallet.p12\", \"wb\")\n",
    "f.write(secret_content)\n",
    "f.close()"
   ]
  },
  {
   "cell_type": "code",
   "execution_count": null,
   "id": "e5120220",
   "metadata": {},
   "outputs": [],
   "source": [
    "dbpw = 'ocid1.***'"
   ]
  },
  {
   "cell_type": "code",
   "execution_count": null,
   "id": "f1db6697",
   "metadata": {},
   "outputs": [],
   "source": [
    "# database password secret extraction\n",
    "def read_secret_value(secret_client, secret_id):\n",
    "    print(\"Reading value of secret_id {}.\".format(secret_id))\n",
    "     \n",
    "    response = secret_client.get_secret_bundle(secret_id)\n",
    "     \n",
    "    base64_Secret_content = response.data.secret_bundle_content.content\n",
    "    base64_secret_bytes = base64_Secret_content.encode('ascii')\n",
    "    base64_message_bytes = base64.b64decode(base64_secret_bytes)\n",
    "    secret_content = base64_message_bytes.decode('ascii')\n",
    "     \n",
    "    return secret_content\n",
    "     \n",
    "#Paste the OCID of the secret from the 'Initializing Vault Client and Listing Secrets from Compartment' results cell that you would like to use\n",
    " \n",
    "secret_id = 'ocid1.***'\n",
    " \n",
    "secret_client = oci.secrets.SecretsClient({}, signer=rps)\n",
    "secret_content = read_secret_value(secret_client, secret_id)\n",
    "print(\"Decoded content of the secret is: {}.\".format(secret_content))\n",
    "\n"
   ]
  },
  {
   "cell_type": "code",
   "execution_count": null,
   "id": "9945ef30",
   "metadata": {},
   "outputs": [],
   "source": []
  },
  {
   "cell_type": "markdown",
   "id": "356e82fc",
   "metadata": {},
   "source": [
    "#### Now we will use the newly constructed wallet and retrieved password from OCI Vault to securely initiate connectivity with Oracle's Autonomous JSON Database!"
   ]
  },
  {
   "cell_type": "code",
   "execution_count": null,
   "id": "ed8c8fdc",
   "metadata": {},
   "outputs": [],
   "source": [
    "os.environ['TNS_ADMIN'] = '/home/datascience/instantclient_21_3/network/admin/decodedwallet/'"
   ]
  },
  {
   "cell_type": "code",
   "execution_count": null,
   "id": "ba01c1bc",
   "metadata": {},
   "outputs": [],
   "source": [
    "\n",
    "pword = secret_content\n",
    "p_username = 'admin'\n",
    "p_password = secret_content\n",
    "p_service = 'db202108311946_high'\n",
    "con4 = cx_Oracle.connect(p_username, p_password, p_service)\n",
    "\n",
    "print(con4)\n",
    "print(con4.version)"
   ]
  },
  {
   "cell_type": "code",
   "execution_count": null,
   "id": "87a5ead5",
   "metadata": {},
   "outputs": [],
   "source": [
    "cur4 = con4.cursor()\n",
    "cur4.execute(\"SELECT table_name FROM dba_tables\")\n",
    "res4 = cur4.fetchall()\n",
    "for row in res4:\n",
    "    print(row)"
   ]
  },
  {
   "cell_type": "code",
   "execution_count": null,
   "id": "eb6cd273",
   "metadata": {},
   "outputs": [],
   "source": []
  },
  {
   "cell_type": "code",
   "execution_count": null,
   "id": "04698bdf",
   "metadata": {},
   "outputs": [],
   "source": []
  },
  {
   "cell_type": "code",
   "execution_count": null,
   "id": "b4597a63",
   "metadata": {},
   "outputs": [],
   "source": []
  }
 ],
 "metadata": {
  "kernelspec": {
   "display_name": "Python 3",
   "language": "python",
   "name": "python3"
  },
  "language_info": {
   "codemirror_mode": {
    "name": "ipython",
    "version": 3
   },
   "file_extension": ".py",
   "mimetype": "text/x-python",
   "name": "python",
   "nbconvert_exporter": "python",
   "pygments_lexer": "ipython3",
   "version": "3.6.13"
  }
 },
 "nbformat": 4,
 "nbformat_minor": 5
}
